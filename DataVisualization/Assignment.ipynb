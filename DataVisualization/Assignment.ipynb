{
 "cells": [
  {
   "cell_type": "markdown",
   "metadata": {},
   "source": [
    "### **Hello, this is Salma's jupyter notebook about the Australian Football League!**"
   ]
  },
  {
   "cell_type": "markdown",
   "metadata": {},
   "source": [
    "Each observation/row is the player’s statistics for one game of Australian Football League (AFL). Every AFL regular home & away game and finals series game in the relevant Seasons is included, currently 2012 – 2016. Pre-Season, Reserves and trial games are not included."
   ]
  },
  {
   "cell_type": "markdown",
   "metadata": {},
   "source": [
    "Coming from Egypt where everyone either plays or watches football, this dataset was interesting to me. I felt that weekly information about the players could provide insight on the teams and players performance over time. "
   ]
  },
  {
   "cell_type": "markdown",
   "metadata": {},
   "source": [
    "The dataset was loaded and below is an small subset of the  downloaded csv file. "
   ]
  },
  {
   "cell_type": "code",
   "execution_count": 1,
   "metadata": {},
   "outputs": [
    {
     "data": {
      "text/html": [
       "<div>\n",
       "<style scoped>\n",
       "    .dataframe tbody tr th:only-of-type {\n",
       "        vertical-align: middle;\n",
       "    }\n",
       "\n",
       "    .dataframe tbody tr th {\n",
       "        vertical-align: top;\n",
       "    }\n",
       "\n",
       "    .dataframe thead th {\n",
       "        text-align: right;\n",
       "    }\n",
       "</style>\n",
       "<table border=\"1\" class=\"dataframe\">\n",
       "  <thead>\n",
       "    <tr style=\"text-align: right;\">\n",
       "      <th></th>\n",
       "      <th>Team</th>\n",
       "      <th>Player</th>\n",
       "      <th>D.O.B</th>\n",
       "      <th>Height</th>\n",
       "      <th>Weight</th>\n",
       "      <th>Position</th>\n",
       "      <th>Season</th>\n",
       "      <th>Round</th>\n",
       "      <th>Date</th>\n",
       "      <th>Score</th>\n",
       "      <th>...</th>\n",
       "      <th>FreesAgainst</th>\n",
       "      <th>BrownlowVotes</th>\n",
       "      <th>ContendedPossessions</th>\n",
       "      <th>UncontendedPossessions</th>\n",
       "      <th>ContestedMarks</th>\n",
       "      <th>MarksInside50</th>\n",
       "      <th>OnePercenters</th>\n",
       "      <th>Bounces</th>\n",
       "      <th>GoalAssists</th>\n",
       "      <th>PercentPlayed</th>\n",
       "    </tr>\n",
       "  </thead>\n",
       "  <tbody>\n",
       "    <tr>\n",
       "      <th>0</th>\n",
       "      <td>Adelaide</td>\n",
       "      <td>Atkins, Rory</td>\n",
       "      <td>1994-07-12</td>\n",
       "      <td>186</td>\n",
       "      <td>85</td>\n",
       "      <td>Midfield</td>\n",
       "      <td>2018</td>\n",
       "      <td>R1</td>\n",
       "      <td>2018-03-23</td>\n",
       "      <td>87.0</td>\n",
       "      <td>...</td>\n",
       "      <td>0</td>\n",
       "      <td>0</td>\n",
       "      <td>4</td>\n",
       "      <td>9</td>\n",
       "      <td>0</td>\n",
       "      <td>0</td>\n",
       "      <td>0</td>\n",
       "      <td>0</td>\n",
       "      <td>1</td>\n",
       "      <td>86</td>\n",
       "    </tr>\n",
       "    <tr>\n",
       "      <th>1</th>\n",
       "      <td>Adelaide</td>\n",
       "      <td>Betts, Eddie</td>\n",
       "      <td>1986-11-26</td>\n",
       "      <td>174</td>\n",
       "      <td>74</td>\n",
       "      <td>Forward</td>\n",
       "      <td>2018</td>\n",
       "      <td>R1</td>\n",
       "      <td>2018-03-23</td>\n",
       "      <td>87.0</td>\n",
       "      <td>...</td>\n",
       "      <td>0</td>\n",
       "      <td>0</td>\n",
       "      <td>6</td>\n",
       "      <td>9</td>\n",
       "      <td>0</td>\n",
       "      <td>1</td>\n",
       "      <td>3</td>\n",
       "      <td>0</td>\n",
       "      <td>1</td>\n",
       "      <td>85</td>\n",
       "    </tr>\n",
       "    <tr>\n",
       "      <th>2</th>\n",
       "      <td>Adelaide</td>\n",
       "      <td>Brown, Luke</td>\n",
       "      <td>1992-09-22</td>\n",
       "      <td>181</td>\n",
       "      <td>81</td>\n",
       "      <td>Defender</td>\n",
       "      <td>2018</td>\n",
       "      <td>R1</td>\n",
       "      <td>2018-03-23</td>\n",
       "      <td>87.0</td>\n",
       "      <td>...</td>\n",
       "      <td>0</td>\n",
       "      <td>0</td>\n",
       "      <td>1</td>\n",
       "      <td>10</td>\n",
       "      <td>0</td>\n",
       "      <td>0</td>\n",
       "      <td>2</td>\n",
       "      <td>0</td>\n",
       "      <td>0</td>\n",
       "      <td>82</td>\n",
       "    </tr>\n",
       "    <tr>\n",
       "      <th>3</th>\n",
       "      <td>Adelaide</td>\n",
       "      <td>Crouch, Matt</td>\n",
       "      <td>1995-04-21</td>\n",
       "      <td>182</td>\n",
       "      <td>80</td>\n",
       "      <td>Midfield</td>\n",
       "      <td>2018</td>\n",
       "      <td>R1</td>\n",
       "      <td>2018-03-23</td>\n",
       "      <td>87.0</td>\n",
       "      <td>...</td>\n",
       "      <td>1</td>\n",
       "      <td>0</td>\n",
       "      <td>11</td>\n",
       "      <td>31</td>\n",
       "      <td>0</td>\n",
       "      <td>0</td>\n",
       "      <td>0</td>\n",
       "      <td>0</td>\n",
       "      <td>1</td>\n",
       "      <td>80</td>\n",
       "    </tr>\n",
       "    <tr>\n",
       "      <th>4</th>\n",
       "      <td>Adelaide</td>\n",
       "      <td>Doedee, Tom</td>\n",
       "      <td>1997-03-01</td>\n",
       "      <td>188</td>\n",
       "      <td>88</td>\n",
       "      <td>Defender</td>\n",
       "      <td>2018</td>\n",
       "      <td>R1</td>\n",
       "      <td>2018-03-23</td>\n",
       "      <td>87.0</td>\n",
       "      <td>...</td>\n",
       "      <td>0</td>\n",
       "      <td>0</td>\n",
       "      <td>8</td>\n",
       "      <td>14</td>\n",
       "      <td>0</td>\n",
       "      <td>0</td>\n",
       "      <td>9</td>\n",
       "      <td>1</td>\n",
       "      <td>0</td>\n",
       "      <td>93</td>\n",
       "    </tr>\n",
       "  </tbody>\n",
       "</table>\n",
       "<p>5 rows × 37 columns</p>\n",
       "</div>"
      ],
      "text/plain": [
       "       Team        Player       D.O.B  Height  Weight  Position  Season Round  \\\n",
       "0  Adelaide  Atkins, Rory  1994-07-12     186      85  Midfield    2018    R1   \n",
       "1  Adelaide  Betts, Eddie  1986-11-26     174      74   Forward    2018    R1   \n",
       "2  Adelaide   Brown, Luke  1992-09-22     181      81  Defender    2018    R1   \n",
       "3  Adelaide  Crouch, Matt  1995-04-21     182      80  Midfield    2018    R1   \n",
       "4  Adelaide   Doedee, Tom  1997-03-01     188      88  Defender    2018    R1   \n",
       "\n",
       "         Date  Score  ...  FreesAgainst BrownlowVotes ContendedPossessions  \\\n",
       "0  2018-03-23   87.0  ...             0             0                    4   \n",
       "1  2018-03-23   87.0  ...             0             0                    6   \n",
       "2  2018-03-23   87.0  ...             0             0                    1   \n",
       "3  2018-03-23   87.0  ...             1             0                   11   \n",
       "4  2018-03-23   87.0  ...             0             0                    8   \n",
       "\n",
       "  UncontendedPossessions  ContestedMarks  MarksInside50  OnePercenters  \\\n",
       "0                      9               0              0              0   \n",
       "1                      9               0              1              3   \n",
       "2                     10               0              0              2   \n",
       "3                     31               0              0              0   \n",
       "4                     14               0              0              9   \n",
       "\n",
       "   Bounces  GoalAssists  PercentPlayed  \n",
       "0        0            1             86  \n",
       "1        0            1             85  \n",
       "2        0            0             82  \n",
       "3        0            1             80  \n",
       "4        1            0             93  \n",
       "\n",
       "[5 rows x 37 columns]"
      ]
     },
     "execution_count": 1,
     "metadata": {},
     "output_type": "execute_result"
    }
   ],
   "source": [
    "#intro into visualization\n",
    "import pandas as pd\n",
    "afl = pd.read_csv(\"aflstats/stats.csv\")\n",
    "afl.head()"
   ]
  },
  {
   "cell_type": "markdown",
   "metadata": {},
   "source": [
    "The data types of each column are listed below. "
   ]
  },
  {
   "cell_type": "code",
   "execution_count": 2,
   "metadata": {},
   "outputs": [
    {
     "data": {
      "text/plain": [
       "Team                       object\n",
       "Player                     object\n",
       "D.O.B                      object\n",
       "Height                      int64\n",
       "Weight                      int64\n",
       "Position                   object\n",
       "Season                      int64\n",
       "Round                      object\n",
       "Date                       object\n",
       "Score                     float64\n",
       "Margin                    float64\n",
       "WinLoss                    object\n",
       "Opposition                 object\n",
       "Venue                      object\n",
       "Disposals                   int64\n",
       "Kicks                       int64\n",
       "Marks                       int64\n",
       "Handballs                   int64\n",
       "Goals                       int64\n",
       "Behinds                     int64\n",
       "Hitouts                     int64\n",
       "Tackles                     int64\n",
       "Rebound50s                  int64\n",
       "Inside50s                   int64\n",
       "Clearances                  int64\n",
       "Clangers                    int64\n",
       "FreesFor                    int64\n",
       "FreesAgainst                int64\n",
       "BrownlowVotes               int64\n",
       "ContendedPossessions        int64\n",
       "UncontendedPossessions      int64\n",
       "ContestedMarks              int64\n",
       "MarksInside50               int64\n",
       "OnePercenters               int64\n",
       "Bounces                     int64\n",
       "GoalAssists                 int64\n",
       "PercentPlayed               int64\n",
       "dtype: object"
      ]
     },
     "execution_count": 2,
     "metadata": {},
     "output_type": "execute_result"
    }
   ],
   "source": [
    "afl.dtypes"
   ]
  },
  {
   "cell_type": "markdown",
   "metadata": {},
   "source": [
    "The column named D.O.B which referred to date of birth was not very useful, a new column named Age was inserted using the D.O.B information. The few steps can be seen below."
   ]
  },
  {
   "cell_type": "code",
   "execution_count": 3,
   "metadata": {},
   "outputs": [],
   "source": [
    "afl[\"DOB\"] = afl[\"D.O.B\"] #renamed the date of birth column to DOB to make functions easier "
   ]
  },
  {
   "cell_type": "code",
   "execution_count": 4,
   "metadata": {},
   "outputs": [
    {
     "data": {
      "text/html": [
       "<div>\n",
       "<style scoped>\n",
       "    .dataframe tbody tr th:only-of-type {\n",
       "        vertical-align: middle;\n",
       "    }\n",
       "\n",
       "    .dataframe tbody tr th {\n",
       "        vertical-align: top;\n",
       "    }\n",
       "\n",
       "    .dataframe thead th {\n",
       "        text-align: right;\n",
       "    }\n",
       "</style>\n",
       "<table border=\"1\" class=\"dataframe\">\n",
       "  <thead>\n",
       "    <tr style=\"text-align: right;\">\n",
       "      <th></th>\n",
       "      <th>Team</th>\n",
       "      <th>Player</th>\n",
       "      <th>D.O.B</th>\n",
       "      <th>Height</th>\n",
       "      <th>Weight</th>\n",
       "      <th>Position</th>\n",
       "      <th>Season</th>\n",
       "      <th>Round</th>\n",
       "      <th>Date</th>\n",
       "      <th>Score</th>\n",
       "      <th>...</th>\n",
       "      <th>BrownlowVotes</th>\n",
       "      <th>ContendedPossessions</th>\n",
       "      <th>UncontendedPossessions</th>\n",
       "      <th>ContestedMarks</th>\n",
       "      <th>MarksInside50</th>\n",
       "      <th>OnePercenters</th>\n",
       "      <th>Bounces</th>\n",
       "      <th>GoalAssists</th>\n",
       "      <th>PercentPlayed</th>\n",
       "      <th>DOB</th>\n",
       "    </tr>\n",
       "  </thead>\n",
       "  <tbody>\n",
       "    <tr>\n",
       "      <th>0</th>\n",
       "      <td>Adelaide</td>\n",
       "      <td>Atkins, Rory</td>\n",
       "      <td>1994-07-12</td>\n",
       "      <td>186</td>\n",
       "      <td>85</td>\n",
       "      <td>Midfield</td>\n",
       "      <td>2018</td>\n",
       "      <td>R1</td>\n",
       "      <td>2018-03-23</td>\n",
       "      <td>87.0</td>\n",
       "      <td>...</td>\n",
       "      <td>0</td>\n",
       "      <td>4</td>\n",
       "      <td>9</td>\n",
       "      <td>0</td>\n",
       "      <td>0</td>\n",
       "      <td>0</td>\n",
       "      <td>0</td>\n",
       "      <td>1</td>\n",
       "      <td>86</td>\n",
       "      <td>1994-07-12</td>\n",
       "    </tr>\n",
       "    <tr>\n",
       "      <th>1</th>\n",
       "      <td>Adelaide</td>\n",
       "      <td>Betts, Eddie</td>\n",
       "      <td>1986-11-26</td>\n",
       "      <td>174</td>\n",
       "      <td>74</td>\n",
       "      <td>Forward</td>\n",
       "      <td>2018</td>\n",
       "      <td>R1</td>\n",
       "      <td>2018-03-23</td>\n",
       "      <td>87.0</td>\n",
       "      <td>...</td>\n",
       "      <td>0</td>\n",
       "      <td>6</td>\n",
       "      <td>9</td>\n",
       "      <td>0</td>\n",
       "      <td>1</td>\n",
       "      <td>3</td>\n",
       "      <td>0</td>\n",
       "      <td>1</td>\n",
       "      <td>85</td>\n",
       "      <td>1986-11-26</td>\n",
       "    </tr>\n",
       "    <tr>\n",
       "      <th>2</th>\n",
       "      <td>Adelaide</td>\n",
       "      <td>Brown, Luke</td>\n",
       "      <td>1992-09-22</td>\n",
       "      <td>181</td>\n",
       "      <td>81</td>\n",
       "      <td>Defender</td>\n",
       "      <td>2018</td>\n",
       "      <td>R1</td>\n",
       "      <td>2018-03-23</td>\n",
       "      <td>87.0</td>\n",
       "      <td>...</td>\n",
       "      <td>0</td>\n",
       "      <td>1</td>\n",
       "      <td>10</td>\n",
       "      <td>0</td>\n",
       "      <td>0</td>\n",
       "      <td>2</td>\n",
       "      <td>0</td>\n",
       "      <td>0</td>\n",
       "      <td>82</td>\n",
       "      <td>1992-09-22</td>\n",
       "    </tr>\n",
       "    <tr>\n",
       "      <th>3</th>\n",
       "      <td>Adelaide</td>\n",
       "      <td>Crouch, Matt</td>\n",
       "      <td>1995-04-21</td>\n",
       "      <td>182</td>\n",
       "      <td>80</td>\n",
       "      <td>Midfield</td>\n",
       "      <td>2018</td>\n",
       "      <td>R1</td>\n",
       "      <td>2018-03-23</td>\n",
       "      <td>87.0</td>\n",
       "      <td>...</td>\n",
       "      <td>0</td>\n",
       "      <td>11</td>\n",
       "      <td>31</td>\n",
       "      <td>0</td>\n",
       "      <td>0</td>\n",
       "      <td>0</td>\n",
       "      <td>0</td>\n",
       "      <td>1</td>\n",
       "      <td>80</td>\n",
       "      <td>1995-04-21</td>\n",
       "    </tr>\n",
       "    <tr>\n",
       "      <th>4</th>\n",
       "      <td>Adelaide</td>\n",
       "      <td>Doedee, Tom</td>\n",
       "      <td>1997-03-01</td>\n",
       "      <td>188</td>\n",
       "      <td>88</td>\n",
       "      <td>Defender</td>\n",
       "      <td>2018</td>\n",
       "      <td>R1</td>\n",
       "      <td>2018-03-23</td>\n",
       "      <td>87.0</td>\n",
       "      <td>...</td>\n",
       "      <td>0</td>\n",
       "      <td>8</td>\n",
       "      <td>14</td>\n",
       "      <td>0</td>\n",
       "      <td>0</td>\n",
       "      <td>9</td>\n",
       "      <td>1</td>\n",
       "      <td>0</td>\n",
       "      <td>93</td>\n",
       "      <td>1997-03-01</td>\n",
       "    </tr>\n",
       "  </tbody>\n",
       "</table>\n",
       "<p>5 rows × 38 columns</p>\n",
       "</div>"
      ],
      "text/plain": [
       "       Team        Player       D.O.B  Height  Weight  Position  Season Round  \\\n",
       "0  Adelaide  Atkins, Rory  1994-07-12     186      85  Midfield    2018    R1   \n",
       "1  Adelaide  Betts, Eddie  1986-11-26     174      74   Forward    2018    R1   \n",
       "2  Adelaide   Brown, Luke  1992-09-22     181      81  Defender    2018    R1   \n",
       "3  Adelaide  Crouch, Matt  1995-04-21     182      80  Midfield    2018    R1   \n",
       "4  Adelaide   Doedee, Tom  1997-03-01     188      88  Defender    2018    R1   \n",
       "\n",
       "         Date  Score  ...  BrownlowVotes ContendedPossessions  \\\n",
       "0  2018-03-23   87.0  ...              0                    4   \n",
       "1  2018-03-23   87.0  ...              0                    6   \n",
       "2  2018-03-23   87.0  ...              0                    1   \n",
       "3  2018-03-23   87.0  ...              0                   11   \n",
       "4  2018-03-23   87.0  ...              0                    8   \n",
       "\n",
       "  UncontendedPossessions ContestedMarks  MarksInside50  OnePercenters  \\\n",
       "0                      9              0              0              0   \n",
       "1                      9              0              1              3   \n",
       "2                     10              0              0              2   \n",
       "3                     31              0              0              0   \n",
       "4                     14              0              0              9   \n",
       "\n",
       "   Bounces  GoalAssists  PercentPlayed         DOB  \n",
       "0        0            1             86  1994-07-12  \n",
       "1        0            1             85  1986-11-26  \n",
       "2        0            0             82  1992-09-22  \n",
       "3        0            1             80  1995-04-21  \n",
       "4        1            0             93  1997-03-01  \n",
       "\n",
       "[5 rows x 38 columns]"
      ]
     },
     "execution_count": 4,
     "metadata": {},
     "output_type": "execute_result"
    }
   ],
   "source": [
    "afl.head()"
   ]
  },
  {
   "cell_type": "code",
   "execution_count": 5,
   "metadata": {},
   "outputs": [],
   "source": [
    "afl[\"DOB\"] = pd.to_datetime(afl.DOB, errors=\"coerce\") #converting to date time "
   ]
  },
  {
   "cell_type": "code",
   "execution_count": 6,
   "metadata": {},
   "outputs": [
    {
     "data": {
      "text/plain": [
       "(63712, 38)"
      ]
     },
     "execution_count": 6,
     "metadata": {},
     "output_type": "execute_result"
    }
   ],
   "source": [
    "afl.shape"
   ]
  },
  {
   "cell_type": "code",
   "execution_count": 7,
   "metadata": {},
   "outputs": [],
   "source": [
    "import datetime as DT\n",
    "import numpy as np\n",
    "import io"
   ]
  },
  {
   "cell_type": "code",
   "execution_count": 8,
   "metadata": {},
   "outputs": [
    {
     "data": {
      "text/plain": [
       "Timestamp('2019-06-05 17:39:23.840741')"
      ]
     },
     "execution_count": 8,
     "metadata": {},
     "output_type": "execute_result"
    }
   ],
   "source": [
    "now = pd.Timestamp('now')\n",
    "now"
   ]
  },
  {
   "cell_type": "code",
   "execution_count": 9,
   "metadata": {},
   "outputs": [],
   "source": [
    "afl['DOB'] = afl['DOB'].where(afl['DOB'] < now, afl['DOB'] -  np.timedelta64(100, 'Y'))"
   ]
  },
  {
   "cell_type": "code",
   "execution_count": 10,
   "metadata": {},
   "outputs": [],
   "source": [
    "afl['Age'] = (now - afl['DOB']).astype('<m8[Y]')   "
   ]
  },
  {
   "cell_type": "markdown",
   "metadata": {},
   "source": [
    "Since the dataset was weekly infomation about most of the players, I decided to seperate the database into two seperate data frames. The first dataframe is called Players and stores the unique team name, player name, age, height, weight, and position."
   ]
  },
  {
   "cell_type": "code",
   "execution_count": 11,
   "metadata": {},
   "outputs": [
    {
     "data": {
      "text/html": [
       "<div>\n",
       "<style scoped>\n",
       "    .dataframe tbody tr th:only-of-type {\n",
       "        vertical-align: middle;\n",
       "    }\n",
       "\n",
       "    .dataframe tbody tr th {\n",
       "        vertical-align: top;\n",
       "    }\n",
       "\n",
       "    .dataframe thead th {\n",
       "        text-align: right;\n",
       "    }\n",
       "</style>\n",
       "<table border=\"1\" class=\"dataframe\">\n",
       "  <thead>\n",
       "    <tr style=\"text-align: right;\">\n",
       "      <th></th>\n",
       "      <th>Team</th>\n",
       "      <th>Player</th>\n",
       "      <th>Age</th>\n",
       "      <th>Height</th>\n",
       "      <th>Weight</th>\n",
       "      <th>Position</th>\n",
       "    </tr>\n",
       "  </thead>\n",
       "  <tbody>\n",
       "    <tr>\n",
       "      <th>0</th>\n",
       "      <td>Adelaide</td>\n",
       "      <td>Atkins, Rory</td>\n",
       "      <td>24.0</td>\n",
       "      <td>186</td>\n",
       "      <td>85</td>\n",
       "      <td>Midfield</td>\n",
       "    </tr>\n",
       "    <tr>\n",
       "      <th>1</th>\n",
       "      <td>Adelaide</td>\n",
       "      <td>Betts, Eddie</td>\n",
       "      <td>32.0</td>\n",
       "      <td>174</td>\n",
       "      <td>74</td>\n",
       "      <td>Forward</td>\n",
       "    </tr>\n",
       "    <tr>\n",
       "      <th>2</th>\n",
       "      <td>Adelaide</td>\n",
       "      <td>Brown, Luke</td>\n",
       "      <td>26.0</td>\n",
       "      <td>181</td>\n",
       "      <td>81</td>\n",
       "      <td>Defender</td>\n",
       "    </tr>\n",
       "    <tr>\n",
       "      <th>3</th>\n",
       "      <td>Adelaide</td>\n",
       "      <td>Crouch, Matt</td>\n",
       "      <td>24.0</td>\n",
       "      <td>182</td>\n",
       "      <td>80</td>\n",
       "      <td>Midfield</td>\n",
       "    </tr>\n",
       "    <tr>\n",
       "      <th>4</th>\n",
       "      <td>Adelaide</td>\n",
       "      <td>Doedee, Tom</td>\n",
       "      <td>22.0</td>\n",
       "      <td>188</td>\n",
       "      <td>88</td>\n",
       "      <td>Defender</td>\n",
       "    </tr>\n",
       "  </tbody>\n",
       "</table>\n",
       "</div>"
      ],
      "text/plain": [
       "       Team        Player   Age  Height  Weight  Position\n",
       "0  Adelaide  Atkins, Rory  24.0     186      85  Midfield\n",
       "1  Adelaide  Betts, Eddie  32.0     174      74   Forward\n",
       "2  Adelaide   Brown, Luke  26.0     181      81  Defender\n",
       "3  Adelaide  Crouch, Matt  24.0     182      80  Midfield\n",
       "4  Adelaide   Doedee, Tom  22.0     188      88  Defender"
      ]
     },
     "execution_count": 11,
     "metadata": {},
     "output_type": "execute_result"
    }
   ],
   "source": [
    "players= afl[[\"Team\", \"Player\", \"Age\", \"Height\", \"Weight\", \"Position\"]]\n",
    "players.head() #remove duplicates"
   ]
  },
  {
   "cell_type": "code",
   "execution_count": 12,
   "metadata": {},
   "outputs": [
    {
     "name": "stderr",
     "output_type": "stream",
     "text": [
      "/Users/sdessouki/anaconda3/lib/python3.7/site-packages/ipykernel_launcher.py:2: SettingWithCopyWarning: \n",
      "A value is trying to be set on a copy of a slice from a DataFrame.\n",
      "Try using .loc[row_indexer,col_indexer] = value instead\n",
      "\n",
      "See the caveats in the documentation: http://pandas.pydata.org/pandas-docs/stable/indexing.html#indexing-view-versus-copy\n",
      "  \n"
     ]
    }
   ],
   "source": [
    "players['unique_model'] = players.Player.str.cat(\n",
    "    [players.Team, players.Age.apply(str)],sep='-')"
   ]
  },
  {
   "cell_type": "code",
   "execution_count": 13,
   "metadata": {},
   "outputs": [
    {
     "data": {
      "text/html": [
       "<div>\n",
       "<style scoped>\n",
       "    .dataframe tbody tr th:only-of-type {\n",
       "        vertical-align: middle;\n",
       "    }\n",
       "\n",
       "    .dataframe tbody tr th {\n",
       "        vertical-align: top;\n",
       "    }\n",
       "\n",
       "    .dataframe thead th {\n",
       "        text-align: right;\n",
       "    }\n",
       "</style>\n",
       "<table border=\"1\" class=\"dataframe\">\n",
       "  <thead>\n",
       "    <tr style=\"text-align: right;\">\n",
       "      <th></th>\n",
       "      <th>Player</th>\n",
       "      <th>Team</th>\n",
       "      <th>Age</th>\n",
       "      <th>unique_model</th>\n",
       "    </tr>\n",
       "  </thead>\n",
       "  <tbody>\n",
       "    <tr>\n",
       "      <th>0</th>\n",
       "      <td>Atkins, Rory</td>\n",
       "      <td>Adelaide</td>\n",
       "      <td>24.0</td>\n",
       "      <td>Atkins, Rory-Adelaide-24.0</td>\n",
       "    </tr>\n",
       "    <tr>\n",
       "      <th>1</th>\n",
       "      <td>Betts, Eddie</td>\n",
       "      <td>Adelaide</td>\n",
       "      <td>32.0</td>\n",
       "      <td>Betts, Eddie-Adelaide-32.0</td>\n",
       "    </tr>\n",
       "    <tr>\n",
       "      <th>2</th>\n",
       "      <td>Brown, Luke</td>\n",
       "      <td>Adelaide</td>\n",
       "      <td>26.0</td>\n",
       "      <td>Brown, Luke-Adelaide-26.0</td>\n",
       "    </tr>\n",
       "    <tr>\n",
       "      <th>3</th>\n",
       "      <td>Crouch, Matt</td>\n",
       "      <td>Adelaide</td>\n",
       "      <td>24.0</td>\n",
       "      <td>Crouch, Matt-Adelaide-24.0</td>\n",
       "    </tr>\n",
       "    <tr>\n",
       "      <th>4</th>\n",
       "      <td>Doedee, Tom</td>\n",
       "      <td>Adelaide</td>\n",
       "      <td>22.0</td>\n",
       "      <td>Doedee, Tom-Adelaide-22.0</td>\n",
       "    </tr>\n",
       "  </tbody>\n",
       "</table>\n",
       "</div>"
      ],
      "text/plain": [
       "         Player      Team   Age                unique_model\n",
       "0  Atkins, Rory  Adelaide  24.0  Atkins, Rory-Adelaide-24.0\n",
       "1  Betts, Eddie  Adelaide  32.0  Betts, Eddie-Adelaide-32.0\n",
       "2   Brown, Luke  Adelaide  26.0   Brown, Luke-Adelaide-26.0\n",
       "3  Crouch, Matt  Adelaide  24.0  Crouch, Matt-Adelaide-24.0\n",
       "4   Doedee, Tom  Adelaide  22.0   Doedee, Tom-Adelaide-22.0"
      ]
     },
     "execution_count": 13,
     "metadata": {},
     "output_type": "execute_result"
    }
   ],
   "source": [
    "players[[\"Player\", \"Team\", \"Age\", \"unique_model\"]].head()"
   ]
  },
  {
   "cell_type": "code",
   "execution_count": 14,
   "metadata": {},
   "outputs": [
    {
     "data": {
      "text/plain": [
       "Breust, Luke-Hawthorn-28.0                    168\n",
       "Kennedy, Josh P-Sydney-30.0                   166\n",
       "Smith, Isaac-Hawthorn-30.0                    165\n",
       "Grundy, Heath-Sydney-33.0                     165\n",
       "Burgoyne, Shaun-Hawthorn-36.0                 161\n",
       "Parker, Luke-Sydney-26.0                      160\n",
       "Jacobs, Sam-Adelaide-31.0                     160\n",
       "Atley, Shaun-North Melbourne-26.0             160\n",
       "Smith, Nick-Sydney-30.0                       159\n",
       "Ebert, Brad-Port Adelaide-29.0                159\n",
       "Jack, Kieren-Sydney-31.0                      159\n",
       "Westhoff, Justin-Port Adelaide-32.0           159\n",
       "Riewoldt, Jack-Richmond-30.0                  159\n",
       "Selwood, Joel-Geelong-31.0                    158\n",
       "Gaff, Andrew-West Coast-26.0                  158\n",
       "Gunston, Jack-Hawthorn-27.0                   158\n",
       "Martin, Dustin-Richmond-27.0                  158\n",
       "Ward, Callan-Greater Western Sydney-29.0      156\n",
       "Cotchin, Trent-Richmond-29.0                  156\n",
       "Hannebery, Dan-Sydney-28.0                    156\n",
       "Rance, Alex-Richmond-29.0                     155\n",
       "Talia, Daniel-Adelaide-27.0                   155\n",
       "Goldstein, Todd-North Melbourne-30.0          154\n",
       "Boak, Travis-Port Adelaide-30.0               153\n",
       "Hawkins, Tom-Geelong-30.0                     153\n",
       "Cunnington, Ben-North Melbourne-27.0          153\n",
       "Ellis, Brandon-Richmond-25.0                  153\n",
       "Mundy, David-Fremantle-33.0                   152\n",
       "Duncan, Mitch-Geelong-27.0                    151\n",
       "Hurn, Shannon-West Coast-31.0                 150\n",
       "                                             ... \n",
       "Phillips, Simon-Port Adelaide-32.0              1\n",
       "Michie, Viv-Fremantle-27.0                      1\n",
       "Blease, Sam-Geelong-28.0                        1\n",
       "Warren, Ben-North Melbourne-30.0                1\n",
       "Gysberts, Jordan-Melbourne-27.0                 1\n",
       "Hooper, Andrew-Western Bulldogs-28.0            1\n",
       "Bruce, Cameron-Hawthorn-39.0                    1\n",
       "Cameron, Darcy-Sydney-23.0                      1\n",
       "Neates, Ryan-West Coast-27.0                    1\n",
       "Buchanan, Amon-Brisbane Lions-36.0              1\n",
       "Membrey, Tim-Sydney-25.0                        1\n",
       "Brander, Jarrod-West Coast-20.0                 1\n",
       "Cooyou, Rhys-Greater Western Sydney-28.0        1\n",
       "Moller, Craig-Fremantle-24.0                    1\n",
       "Aylett, Kurt-Greater Western Sydney-27.0        1\n",
       "Skinner, Sam-Brisbane Lions-21.0                1\n",
       "Clarke, Dylan-Essendon-20.0                     1\n",
       "Ballard, Jacob-Fremantle-25.0                   1\n",
       "Schulz, Sam-Greater Western Sydney-26.0         1\n",
       "Frampton, Billy-Port Adelaide-22.0              1\n",
       "McCarthy, Pat-Carlton-27.0                      1\n",
       "Warren, Max-North Melbourne-26.0                1\n",
       "Wanganeen, Derick-Hawthorn-28.0                 1\n",
       "McIntyre, Tim-Adelaide-30.0                     1\n",
       "Thornton, Bret-Greater Western Sydney-35.0      1\n",
       "Jurrah, Liam-Melbourne-30.0                     1\n",
       "Peake, Brett-St Kilda-35.0                      1\n",
       "Graham, Angus-Richmond-32.0                     1\n",
       "Petty, Harry-Melbourne-19.0                     1\n",
       "Chol, Mabior-Richmond-22.0                      1\n",
       "Name: unique_model, Length: 1506, dtype: int64"
      ]
     },
     "execution_count": 14,
     "metadata": {},
     "output_type": "execute_result"
    }
   ],
   "source": [
    "players.unique_model.value_counts()"
   ]
  },
  {
   "cell_type": "code",
   "execution_count": 15,
   "metadata": {},
   "outputs": [
    {
     "data": {
      "text/html": [
       "<div>\n",
       "<style scoped>\n",
       "    .dataframe tbody tr th:only-of-type {\n",
       "        vertical-align: middle;\n",
       "    }\n",
       "\n",
       "    .dataframe tbody tr th {\n",
       "        vertical-align: top;\n",
       "    }\n",
       "\n",
       "    .dataframe thead th {\n",
       "        text-align: right;\n",
       "    }\n",
       "</style>\n",
       "<table border=\"1\" class=\"dataframe\">\n",
       "  <thead>\n",
       "    <tr style=\"text-align: right;\">\n",
       "      <th></th>\n",
       "      <th>Team</th>\n",
       "      <th>Player</th>\n",
       "      <th>Age</th>\n",
       "      <th>Height</th>\n",
       "      <th>Weight</th>\n",
       "      <th>Position</th>\n",
       "      <th>unique_model</th>\n",
       "    </tr>\n",
       "  </thead>\n",
       "  <tbody>\n",
       "    <tr>\n",
       "      <th>4510</th>\n",
       "      <td>Hawthorn</td>\n",
       "      <td>Breust, Luke</td>\n",
       "      <td>28.0</td>\n",
       "      <td>184</td>\n",
       "      <td>84</td>\n",
       "      <td>Forward</td>\n",
       "      <td>Breust, Luke-Hawthorn-28.0</td>\n",
       "    </tr>\n",
       "    <tr>\n",
       "      <th>4533</th>\n",
       "      <td>Hawthorn</td>\n",
       "      <td>Breust, Luke</td>\n",
       "      <td>28.0</td>\n",
       "      <td>184</td>\n",
       "      <td>84</td>\n",
       "      <td>Forward</td>\n",
       "      <td>Breust, Luke-Hawthorn-28.0</td>\n",
       "    </tr>\n",
       "    <tr>\n",
       "      <th>4555</th>\n",
       "      <td>Hawthorn</td>\n",
       "      <td>Breust, Luke</td>\n",
       "      <td>28.0</td>\n",
       "      <td>184</td>\n",
       "      <td>84</td>\n",
       "      <td>Forward</td>\n",
       "      <td>Breust, Luke-Hawthorn-28.0</td>\n",
       "    </tr>\n",
       "    <tr>\n",
       "      <th>4576</th>\n",
       "      <td>Hawthorn</td>\n",
       "      <td>Breust, Luke</td>\n",
       "      <td>28.0</td>\n",
       "      <td>184</td>\n",
       "      <td>84</td>\n",
       "      <td>Forward</td>\n",
       "      <td>Breust, Luke-Hawthorn-28.0</td>\n",
       "    </tr>\n",
       "    <tr>\n",
       "      <th>4598</th>\n",
       "      <td>Hawthorn</td>\n",
       "      <td>Breust, Luke</td>\n",
       "      <td>28.0</td>\n",
       "      <td>184</td>\n",
       "      <td>84</td>\n",
       "      <td>Forward</td>\n",
       "      <td>Breust, Luke-Hawthorn-28.0</td>\n",
       "    </tr>\n",
       "  </tbody>\n",
       "</table>\n",
       "</div>"
      ],
      "text/plain": [
       "          Team        Player   Age  Height  Weight Position  \\\n",
       "4510  Hawthorn  Breust, Luke  28.0     184      84  Forward   \n",
       "4533  Hawthorn  Breust, Luke  28.0     184      84  Forward   \n",
       "4555  Hawthorn  Breust, Luke  28.0     184      84  Forward   \n",
       "4576  Hawthorn  Breust, Luke  28.0     184      84  Forward   \n",
       "4598  Hawthorn  Breust, Luke  28.0     184      84  Forward   \n",
       "\n",
       "                    unique_model  \n",
       "4510  Breust, Luke-Hawthorn-28.0  \n",
       "4533  Breust, Luke-Hawthorn-28.0  \n",
       "4555  Breust, Luke-Hawthorn-28.0  \n",
       "4576  Breust, Luke-Hawthorn-28.0  \n",
       "4598  Breust, Luke-Hawthorn-28.0  "
      ]
     },
     "execution_count": 15,
     "metadata": {},
     "output_type": "execute_result"
    }
   ],
   "source": [
    "players[players.unique_model=='Breust, Luke-Hawthorn-28.0'].head()"
   ]
  },
  {
   "cell_type": "code",
   "execution_count": 16,
   "metadata": {},
   "outputs": [
    {
     "data": {
      "text/plain": [
       "(63712, 7)"
      ]
     },
     "execution_count": 16,
     "metadata": {},
     "output_type": "execute_result"
    }
   ],
   "source": [
    "players.shape"
   ]
  },
  {
   "cell_type": "code",
   "execution_count": 17,
   "metadata": {},
   "outputs": [
    {
     "data": {
      "text/plain": [
       "(1506, 7)"
      ]
     },
     "execution_count": 17,
     "metadata": {},
     "output_type": "execute_result"
    }
   ],
   "source": [
    "players_dropped = players.drop_duplicates()\n",
    "players_dropped.shape"
   ]
  },
  {
   "cell_type": "code",
   "execution_count": 18,
   "metadata": {},
   "outputs": [],
   "source": [
    "players_dropped.head()\n",
    "del players_dropped['unique_model']"
   ]
  },
  {
   "cell_type": "code",
   "execution_count": 19,
   "metadata": {},
   "outputs": [
    {
     "data": {
      "text/html": [
       "<div>\n",
       "<style scoped>\n",
       "    .dataframe tbody tr th:only-of-type {\n",
       "        vertical-align: middle;\n",
       "    }\n",
       "\n",
       "    .dataframe tbody tr th {\n",
       "        vertical-align: top;\n",
       "    }\n",
       "\n",
       "    .dataframe thead th {\n",
       "        text-align: right;\n",
       "    }\n",
       "</style>\n",
       "<table border=\"1\" class=\"dataframe\">\n",
       "  <thead>\n",
       "    <tr style=\"text-align: right;\">\n",
       "      <th></th>\n",
       "      <th>Team</th>\n",
       "      <th>Player</th>\n",
       "      <th>Age</th>\n",
       "      <th>Height</th>\n",
       "      <th>Weight</th>\n",
       "      <th>Position</th>\n",
       "    </tr>\n",
       "  </thead>\n",
       "  <tbody>\n",
       "    <tr>\n",
       "      <th>0</th>\n",
       "      <td>Adelaide</td>\n",
       "      <td>Atkins, Rory</td>\n",
       "      <td>24.0</td>\n",
       "      <td>186</td>\n",
       "      <td>85</td>\n",
       "      <td>Midfield</td>\n",
       "    </tr>\n",
       "    <tr>\n",
       "      <th>1</th>\n",
       "      <td>Adelaide</td>\n",
       "      <td>Betts, Eddie</td>\n",
       "      <td>32.0</td>\n",
       "      <td>174</td>\n",
       "      <td>74</td>\n",
       "      <td>Forward</td>\n",
       "    </tr>\n",
       "    <tr>\n",
       "      <th>2</th>\n",
       "      <td>Adelaide</td>\n",
       "      <td>Brown, Luke</td>\n",
       "      <td>26.0</td>\n",
       "      <td>181</td>\n",
       "      <td>81</td>\n",
       "      <td>Defender</td>\n",
       "    </tr>\n",
       "    <tr>\n",
       "      <th>3</th>\n",
       "      <td>Adelaide</td>\n",
       "      <td>Crouch, Matt</td>\n",
       "      <td>24.0</td>\n",
       "      <td>182</td>\n",
       "      <td>80</td>\n",
       "      <td>Midfield</td>\n",
       "    </tr>\n",
       "    <tr>\n",
       "      <th>4</th>\n",
       "      <td>Adelaide</td>\n",
       "      <td>Doedee, Tom</td>\n",
       "      <td>22.0</td>\n",
       "      <td>188</td>\n",
       "      <td>88</td>\n",
       "      <td>Defender</td>\n",
       "    </tr>\n",
       "  </tbody>\n",
       "</table>\n",
       "</div>"
      ],
      "text/plain": [
       "       Team        Player   Age  Height  Weight  Position\n",
       "0  Adelaide  Atkins, Rory  24.0     186      85  Midfield\n",
       "1  Adelaide  Betts, Eddie  32.0     174      74   Forward\n",
       "2  Adelaide   Brown, Luke  26.0     181      81  Defender\n",
       "3  Adelaide  Crouch, Matt  24.0     182      80  Midfield\n",
       "4  Adelaide   Doedee, Tom  22.0     188      88  Defender"
      ]
     },
     "execution_count": 19,
     "metadata": {},
     "output_type": "execute_result"
    }
   ],
   "source": [
    "players_dropped.head()"
   ]
  },
  {
   "cell_type": "markdown",
   "metadata": {},
   "source": [
    "Another data frame was created that included the player, team, and age which is presumed to be the primary key of the original afl data frame. Then the other columns which had the game statistics for each game were indexed and added to the game_sts dataframe. "
   ]
  },
  {
   "cell_type": "code",
   "execution_count": 20,
   "metadata": {},
   "outputs": [],
   "source": [
    "game_cols= [\"Player\", \"Team\", \"Age\"]"
   ]
  },
  {
   "cell_type": "code",
   "execution_count": 21,
   "metadata": {},
   "outputs": [],
   "source": [
    "game_cols.extend(afl.columns[6:37].to_list())"
   ]
  },
  {
   "cell_type": "code",
   "execution_count": 22,
   "metadata": {},
   "outputs": [
    {
     "ename": "SyntaxError",
     "evalue": "invalid syntax (<ipython-input-22-787c145bf21f>, line 1)",
     "output_type": "error",
     "traceback": [
      "\u001b[0;36m  File \u001b[0;32m\"<ipython-input-22-787c145bf21f>\"\u001b[0;36m, line \u001b[0;32m1\u001b[0m\n\u001b[0;31m    Season                             int64\u001b[0m\n\u001b[0m                                           ^\u001b[0m\n\u001b[0;31mSyntaxError\u001b[0m\u001b[0;31m:\u001b[0m invalid syntax\n"
     ]
    }
   ],
   "source": [
    "Season                             int64\n",
    "Round                             object\n",
    "Date                              object\n",
    "Score                            float64\n",
    "Margin                           float64\n",
    "WinLoss                           object\n",
    "Opposition                        object\n",
    "Venue                             object\n",
    "Disposals                          int64\n",
    "Kicks                              int64\n",
    "Marks                              int64\n",
    "Handballs                          int64\n",
    "Goals                              int64\n",
    "Behinds                            int64\n",
    "Hitouts                            int64\n",
    "Tackles                            int64\n",
    "Rebound50s                         int64\n",
    "Inside50s                          int64\n",
    "Clearances                         int64\n",
    "Clangers                           int64\n",
    "FreesFor                           int64\n",
    "FreesAgainst                       int64\n",
    "BrownlowVotes                      int64\n",
    "ContendedPossessions               int64\n",
    "UncontendedPossessions             int64\n",
    "ContestedMarks                     int64\n",
    "MarksInside50                      int64\n",
    "OnePercenters                      int64\n",
    "Bounces                            int64\n",
    "GoalAssists                        int64\n",
    "PercentPlayed                      int64"
   ]
  },
  {
   "cell_type": "code",
   "execution_count": 23,
   "metadata": {},
   "outputs": [],
   "source": [
    "game_stats = afl[game_cols]"
   ]
  },
  {
   "cell_type": "code",
   "execution_count": 24,
   "metadata": {},
   "outputs": [
    {
     "data": {
      "text/html": [
       "<div>\n",
       "<style scoped>\n",
       "    .dataframe tbody tr th:only-of-type {\n",
       "        vertical-align: middle;\n",
       "    }\n",
       "\n",
       "    .dataframe tbody tr th {\n",
       "        vertical-align: top;\n",
       "    }\n",
       "\n",
       "    .dataframe thead th {\n",
       "        text-align: right;\n",
       "    }\n",
       "</style>\n",
       "<table border=\"1\" class=\"dataframe\">\n",
       "  <thead>\n",
       "    <tr style=\"text-align: right;\">\n",
       "      <th></th>\n",
       "      <th>Player</th>\n",
       "      <th>Team</th>\n",
       "      <th>Age</th>\n",
       "      <th>Season</th>\n",
       "      <th>Round</th>\n",
       "      <th>Date</th>\n",
       "      <th>Score</th>\n",
       "      <th>Margin</th>\n",
       "      <th>WinLoss</th>\n",
       "      <th>Opposition</th>\n",
       "      <th>...</th>\n",
       "      <th>FreesAgainst</th>\n",
       "      <th>BrownlowVotes</th>\n",
       "      <th>ContendedPossessions</th>\n",
       "      <th>UncontendedPossessions</th>\n",
       "      <th>ContestedMarks</th>\n",
       "      <th>MarksInside50</th>\n",
       "      <th>OnePercenters</th>\n",
       "      <th>Bounces</th>\n",
       "      <th>GoalAssists</th>\n",
       "      <th>PercentPlayed</th>\n",
       "    </tr>\n",
       "  </thead>\n",
       "  <tbody>\n",
       "    <tr>\n",
       "      <th>0</th>\n",
       "      <td>Atkins, Rory</td>\n",
       "      <td>Adelaide</td>\n",
       "      <td>24.0</td>\n",
       "      <td>2018</td>\n",
       "      <td>R1</td>\n",
       "      <td>2018-03-23</td>\n",
       "      <td>87.0</td>\n",
       "      <td>-12.0</td>\n",
       "      <td>L</td>\n",
       "      <td>Essendon</td>\n",
       "      <td>...</td>\n",
       "      <td>0</td>\n",
       "      <td>0</td>\n",
       "      <td>4</td>\n",
       "      <td>9</td>\n",
       "      <td>0</td>\n",
       "      <td>0</td>\n",
       "      <td>0</td>\n",
       "      <td>0</td>\n",
       "      <td>1</td>\n",
       "      <td>86</td>\n",
       "    </tr>\n",
       "    <tr>\n",
       "      <th>1</th>\n",
       "      <td>Betts, Eddie</td>\n",
       "      <td>Adelaide</td>\n",
       "      <td>32.0</td>\n",
       "      <td>2018</td>\n",
       "      <td>R1</td>\n",
       "      <td>2018-03-23</td>\n",
       "      <td>87.0</td>\n",
       "      <td>-12.0</td>\n",
       "      <td>L</td>\n",
       "      <td>Essendon</td>\n",
       "      <td>...</td>\n",
       "      <td>0</td>\n",
       "      <td>0</td>\n",
       "      <td>6</td>\n",
       "      <td>9</td>\n",
       "      <td>0</td>\n",
       "      <td>1</td>\n",
       "      <td>3</td>\n",
       "      <td>0</td>\n",
       "      <td>1</td>\n",
       "      <td>85</td>\n",
       "    </tr>\n",
       "    <tr>\n",
       "      <th>2</th>\n",
       "      <td>Brown, Luke</td>\n",
       "      <td>Adelaide</td>\n",
       "      <td>26.0</td>\n",
       "      <td>2018</td>\n",
       "      <td>R1</td>\n",
       "      <td>2018-03-23</td>\n",
       "      <td>87.0</td>\n",
       "      <td>-12.0</td>\n",
       "      <td>L</td>\n",
       "      <td>Essendon</td>\n",
       "      <td>...</td>\n",
       "      <td>0</td>\n",
       "      <td>0</td>\n",
       "      <td>1</td>\n",
       "      <td>10</td>\n",
       "      <td>0</td>\n",
       "      <td>0</td>\n",
       "      <td>2</td>\n",
       "      <td>0</td>\n",
       "      <td>0</td>\n",
       "      <td>82</td>\n",
       "    </tr>\n",
       "    <tr>\n",
       "      <th>3</th>\n",
       "      <td>Crouch, Matt</td>\n",
       "      <td>Adelaide</td>\n",
       "      <td>24.0</td>\n",
       "      <td>2018</td>\n",
       "      <td>R1</td>\n",
       "      <td>2018-03-23</td>\n",
       "      <td>87.0</td>\n",
       "      <td>-12.0</td>\n",
       "      <td>L</td>\n",
       "      <td>Essendon</td>\n",
       "      <td>...</td>\n",
       "      <td>1</td>\n",
       "      <td>0</td>\n",
       "      <td>11</td>\n",
       "      <td>31</td>\n",
       "      <td>0</td>\n",
       "      <td>0</td>\n",
       "      <td>0</td>\n",
       "      <td>0</td>\n",
       "      <td>1</td>\n",
       "      <td>80</td>\n",
       "    </tr>\n",
       "    <tr>\n",
       "      <th>4</th>\n",
       "      <td>Doedee, Tom</td>\n",
       "      <td>Adelaide</td>\n",
       "      <td>22.0</td>\n",
       "      <td>2018</td>\n",
       "      <td>R1</td>\n",
       "      <td>2018-03-23</td>\n",
       "      <td>87.0</td>\n",
       "      <td>-12.0</td>\n",
       "      <td>L</td>\n",
       "      <td>Essendon</td>\n",
       "      <td>...</td>\n",
       "      <td>0</td>\n",
       "      <td>0</td>\n",
       "      <td>8</td>\n",
       "      <td>14</td>\n",
       "      <td>0</td>\n",
       "      <td>0</td>\n",
       "      <td>9</td>\n",
       "      <td>1</td>\n",
       "      <td>0</td>\n",
       "      <td>93</td>\n",
       "    </tr>\n",
       "  </tbody>\n",
       "</table>\n",
       "<p>5 rows × 34 columns</p>\n",
       "</div>"
      ],
      "text/plain": [
       "         Player      Team   Age  Season Round        Date  Score  Margin  \\\n",
       "0  Atkins, Rory  Adelaide  24.0    2018    R1  2018-03-23   87.0   -12.0   \n",
       "1  Betts, Eddie  Adelaide  32.0    2018    R1  2018-03-23   87.0   -12.0   \n",
       "2   Brown, Luke  Adelaide  26.0    2018    R1  2018-03-23   87.0   -12.0   \n",
       "3  Crouch, Matt  Adelaide  24.0    2018    R1  2018-03-23   87.0   -12.0   \n",
       "4   Doedee, Tom  Adelaide  22.0    2018    R1  2018-03-23   87.0   -12.0   \n",
       "\n",
       "  WinLoss Opposition  ... FreesAgainst  BrownlowVotes  ContendedPossessions  \\\n",
       "0       L   Essendon  ...            0              0                     4   \n",
       "1       L   Essendon  ...            0              0                     6   \n",
       "2       L   Essendon  ...            0              0                     1   \n",
       "3       L   Essendon  ...            1              0                    11   \n",
       "4       L   Essendon  ...            0              0                     8   \n",
       "\n",
       "   UncontendedPossessions  ContestedMarks  MarksInside50  OnePercenters  \\\n",
       "0                       9               0              0              0   \n",
       "1                       9               0              1              3   \n",
       "2                      10               0              0              2   \n",
       "3                      31               0              0              0   \n",
       "4                      14               0              0              9   \n",
       "\n",
       "   Bounces  GoalAssists  PercentPlayed  \n",
       "0        0            1             86  \n",
       "1        0            1             85  \n",
       "2        0            0             82  \n",
       "3        0            1             80  \n",
       "4        1            0             93  \n",
       "\n",
       "[5 rows x 34 columns]"
      ]
     },
     "execution_count": 24,
     "metadata": {},
     "output_type": "execute_result"
    }
   ],
   "source": [
    "game_stats.head()"
   ]
  },
  {
   "cell_type": "markdown",
   "metadata": {},
   "source": [
    "I was confused as to why some teams had a score above 100 since FIFA and other organizations score players out of 100. My suspicion was that there were repeated player names on different teams which were being summed and averaged. To further explore this suspicion I used the describe function to see the max score for each player."
   ]
  },
  {
   "cell_type": "code",
   "execution_count": 25,
   "metadata": {},
   "outputs": [
    {
     "data": {
      "text/plain": [
       "count    63624.000000\n",
       "mean        88.365837\n",
       "std         27.656656\n",
       "min         17.000000\n",
       "25%         69.000000\n",
       "50%         86.000000\n",
       "75%        106.000000\n",
       "max        193.000000\n",
       "Name: Score, dtype: float64"
      ]
     },
     "execution_count": 25,
     "metadata": {},
     "output_type": "execute_result"
    }
   ],
   "source": [
    "game_stats.Score.describe()"
   ]
  },
  {
   "cell_type": "markdown",
   "metadata": {},
   "source": [
    "As seen above, the result above proves that the sacore is out of 200 and the max score for a player is 193."
   ]
  },
  {
   "cell_type": "markdown",
   "metadata": {},
   "source": [
    "Below the data visualization portion of the assignment has begun, now that I have the seperate data bases and I will begin exploring aspects of the data that I find interesting or could be valuable to a coach, player, or fan. "
   ]
  },
  {
   "cell_type": "markdown",
   "metadata": {},
   "source": [
    "Using the game statistics player, the average score per player was calculated and a bar chart of the top 10 players were graphed. "
   ]
  },
  {
   "cell_type": "code",
   "execution_count": 77,
   "metadata": {},
   "outputs": [],
   "source": [
    "score_by_player = game_stats.groupby(\"Player\",)[\"Score\"].mean()\n",
    "score_by_player=score_by_player.sort_values(ascending=False).head()"
   ]
  },
  {
   "cell_type": "code",
   "execution_count": 78,
   "metadata": {},
   "outputs": [
    {
     "data": {
      "image/png": "[encoded data removed]",
      "text/plain": [
       "<Figure size 576x396 with 1 Axes>"
      ]
     },
     "metadata": {},
     "output_type": "display_data"
    }
   ],
   "source": [
    "score_by_player.head(10).plot.barh();"
   ]
  },
  {
   "cell_type": "markdown",
   "metadata": {},
   "source": [
    "In order to see if there was a relationship between a player's score and height, I inner joined the two data frames on the common column of Player. This new data frame was called player_score_height and was sorted to show the players with the highest score first. Matplotlib was imported and a scatter plot was plotted to see if there was a trend. However, I understand that if there was a relationship it would need to be further explored using regression to analyze whether height, weight, position, and possibly percent played all affect score. "
   ]
  },
  {
   "cell_type": "code",
   "execution_count": 131,
   "metadata": {},
   "outputs": [],
   "source": [
    "player_score_height = pd.merge(players_dropped, score_by_player, left_on=\"Player\", right_on=\"Player\", how=\"inner\")"
   ]
  },
  {
   "cell_type": "code",
   "execution_count": 127,
   "metadata": {},
   "outputs": [
    {
     "data": {
      "text/html": [
       "<div>\n",
       "<style scoped>\n",
       "    .dataframe tbody tr th:only-of-type {\n",
       "        vertical-align: middle;\n",
       "    }\n",
       "\n",
       "    .dataframe tbody tr th {\n",
       "        vertical-align: top;\n",
       "    }\n",
       "\n",
       "    .dataframe thead th {\n",
       "        text-align: right;\n",
       "    }\n",
       "</style>\n",
       "<table border=\"1\" class=\"dataframe\">\n",
       "  <thead>\n",
       "    <tr style=\"text-align: right;\">\n",
       "      <th></th>\n",
       "      <th>Team</th>\n",
       "      <th>Player</th>\n",
       "      <th>Age</th>\n",
       "      <th>Height</th>\n",
       "      <th>Weight</th>\n",
       "      <th>Position</th>\n",
       "      <th>Score</th>\n",
       "    </tr>\n",
       "  </thead>\n",
       "  <tbody>\n",
       "    <tr>\n",
       "      <th>0</th>\n",
       "      <td>Adelaide</td>\n",
       "      <td>Himmelberg, Elliott</td>\n",
       "      <td>21.0</td>\n",
       "      <td>198</td>\n",
       "      <td>94</td>\n",
       "      <td>Forward</td>\n",
       "      <td>165.0</td>\n",
       "    </tr>\n",
       "    <tr>\n",
       "      <th>2</th>\n",
       "      <td>Adelaide</td>\n",
       "      <td>OBrien, Reilly</td>\n",
       "      <td>23.0</td>\n",
       "      <td>202</td>\n",
       "      <td>101</td>\n",
       "      <td>Ruck</td>\n",
       "      <td>159.5</td>\n",
       "    </tr>\n",
       "    <tr>\n",
       "      <th>3</th>\n",
       "      <td>Hawthorn</td>\n",
       "      <td>Wanganeen, Derick</td>\n",
       "      <td>28.0</td>\n",
       "      <td>174</td>\n",
       "      <td>75</td>\n",
       "      <td>Midfield</td>\n",
       "      <td>139.0</td>\n",
       "    </tr>\n",
       "    <tr>\n",
       "      <th>1</th>\n",
       "      <td>North Melbourne</td>\n",
       "      <td>McKay, Ben</td>\n",
       "      <td>21.0</td>\n",
       "      <td>201</td>\n",
       "      <td>95</td>\n",
       "      <td>Defender</td>\n",
       "      <td>130.0</td>\n",
       "    </tr>\n",
       "    <tr>\n",
       "      <th>4</th>\n",
       "      <td>Hawthorn</td>\n",
       "      <td>Boumann, Jarrad</td>\n",
       "      <td>29.0</td>\n",
       "      <td>196</td>\n",
       "      <td>85</td>\n",
       "      <td>Forward</td>\n",
       "      <td>130.0</td>\n",
       "    </tr>\n",
       "  </tbody>\n",
       "</table>\n",
       "</div>"
      ],
      "text/plain": [
       "              Team               Player   Age  Height  Weight  Position  Score\n",
       "0         Adelaide  Himmelberg, Elliott  21.0     198      94   Forward  165.0\n",
       "2         Adelaide       OBrien, Reilly  23.0     202     101      Ruck  159.5\n",
       "3         Hawthorn    Wanganeen, Derick  28.0     174      75  Midfield  139.0\n",
       "1  North Melbourne           McKay, Ben  21.0     201      95  Defender  130.0\n",
       "4         Hawthorn      Boumann, Jarrad  29.0     196      85   Forward  130.0"
      ]
     },
     "execution_count": 127,
     "metadata": {},
     "output_type": "execute_result"
    }
   ],
   "source": [
    "player_score_height.sort_values(by= \"Score\", ascending=False).head()"
   ]
  },
  {
   "cell_type": "code",
   "execution_count": 82,
   "metadata": {},
   "outputs": [
    {
     "data": {
      "image/png": "[encoded data removed]",
      "text/plain": [
       "<Figure size 576x396 with 1 Axes>"
      ]
     },
     "metadata": {},
     "output_type": "display_data"
    }
   ],
   "source": [
    "import matplotlib.pyplot as plt\n",
    "afl.plot.scatter(x=\"Height\", y=\"Score\");"
   ]
  },
  {
   "cell_type": "markdown",
   "metadata": {},
   "source": [
    "The scatter plot above gave no indication of a relationship between height and score. To make this more clear, a trend line was graphed to more clearly see the height-score relationship."
   ]
  },
  {
   "cell_type": "code",
   "execution_count": 40,
   "metadata": {},
   "outputs": [
    {
     "data": {
      "image/png": "[encoded data removed]",
      "text/plain": [
       "<Figure size 432x288 with 1 Axes>"
      ]
     },
     "metadata": {
      "needs_background": "light"
     },
     "output_type": "display_data"
    }
   ],
   "source": [
    "afl.groupby(\"Height\")[\"Score\"].mean().plot.line();"
   ]
  },
  {
   "cell_type": "markdown",
   "metadata": {},
   "source": [
    "The trend line also indicated no specific relationship between height and score."
   ]
  },
  {
   "cell_type": "markdown",
   "metadata": {},
   "source": [
    "When fans are deciding which teams to support, or coaches/players are switching teams, they prefer to select teams with better players which could be determined by players with a higher average score. The average score per team was calculated and sorted and printed the 5 teams with the highest scores called score_by_team. Then this was plotted in a bar chart."
   ]
  },
  {
   "cell_type": "code",
   "execution_count": 128,
   "metadata": {},
   "outputs": [
    {
     "data": {
      "text/plain": [
       "Team\n",
       "Hawthorn           103.619883\n",
       "Adelaide           101.233129\n",
       "Geelong             96.225610\n",
       "West Coast          95.493902\n",
       "North Melbourne     94.327160\n",
       "Name: Score, dtype: float64"
      ]
     },
     "execution_count": 128,
     "metadata": {},
     "output_type": "execute_result"
    }
   ],
   "source": [
    "score_by_team = game_stats.groupby(\"Team\",)[\"Score\"].mean()\n",
    "score_by_team = score_by_team.sort_values(ascending=False).head();\n",
    "score_by_team"
   ]
  },
  {
   "cell_type": "code",
   "execution_count": 129,
   "metadata": {},
   "outputs": [
    {
     "data": {
      "image/png": "[encoded data removed]",
      "text/plain": [
       "<Figure size 576x396 with 1 Axes>"
      ]
     },
     "metadata": {},
     "output_type": "display_data"
    }
   ],
   "source": [
    "score_by_team.head().plot.barh();"
   ]
  },
  {
   "cell_type": "markdown",
   "metadata": {},
   "source": [
    "In order to make sure that there were no players with the same name on multiple teams, I printed the score for each player in each team (grouped by both player and team). This was sorted by highest score and the players in a team with the highest scores were printed. This presented another aspect of the data that some players have played for multiple teams over different seasons. This could be further explore, for example to find which transfer was beneficial to the team or the player?"
   ]
  },
  {
   "cell_type": "code",
   "execution_count": 122,
   "metadata": {},
   "outputs": [
    {
     "data": {
      "text/plain": [
       "Player               Team    \n",
       "Himmelberg, Elliott  Adelaide    165.000000\n",
       "OBrien, Reilly       Adelaide    159.500000\n",
       "Wanganeen, Derick    Hawthorn    139.000000\n",
       "Murphy, Tom          Hawthorn    135.666667\n",
       "Talia, Michael       Sydney      133.000000\n",
       "Name: Score, dtype: float64"
      ]
     },
     "execution_count": 122,
     "metadata": {},
     "output_type": "execute_result"
    }
   ],
   "source": [
    "score_by_team_player = game_stats.groupby([\"Player\",\"Team\"])[\"Score\"].mean()\n",
    "score_by_team_player.sort_values(ascending=False).head()"
   ]
  },
  {
   "cell_type": "code",
   "execution_count": 41,
   "metadata": {},
   "outputs": [],
   "source": [
    "plt.style.use(\"seaborn-pastel\")"
   ]
  },
  {
   "cell_type": "markdown",
   "metadata": {},
   "source": [
    "I wanted to see if there was a relationship between the percent of the ganme played and average score. The scatter did not show this clearly, but the line graph showed the people of that played very little seem to have high scores which could be inflated because it is relative to the time tehy played. Players that played around 20 and 40 percent of the game had the maximum scores (two peaks)."
   ]
  },
  {
   "cell_type": "code",
   "execution_count": 136,
   "metadata": {},
   "outputs": [
    {
     "data": {
      "image/png": "[encoded data removed]",
      "text/plain": [
       "<Figure size 720x720 with 1 Axes>"
      ]
     },
     "metadata": {},
     "output_type": "display_data"
    }
   ],
   "source": [
    "game_stats.plot.scatter(x=\"PercentPlayed\", y=\"Score\", figsize=(10, 10))\n",
    "plt.title(\"Relationship Between PercentPlayed and Score \", size=14)\n",
    "plt.xlabel(\"PercentPlayed\", size=15)\n",
    "plt.ylabel(\"Score\", size=15);"
   ]
  },
  {
   "cell_type": "code",
   "execution_count": 138,
   "metadata": {},
   "outputs": [
    {
     "data": {
      "image/png": "[encoded data removed]",
      "text/plain": [
       "<Figure size 576x396 with 1 Axes>"
      ]
     },
     "metadata": {},
     "output_type": "display_data"
    }
   ],
   "source": [
    "game_stats.groupby(\"PercentPlayed\")[\"Score\"].mean().plot.line();"
   ]
  },
  {
   "cell_type": "markdown",
   "metadata": {},
   "source": [
    "Then I wanted to confirm my hypothesis that taller people tend to weigh more because of their muscle mass. So I graphed height and weight and it confirmed this hypothesis and showed a linear relationship."
   ]
  },
  {
   "cell_type": "code",
   "execution_count": 65,
   "metadata": {},
   "outputs": [
    {
     "data": {
      "image/png": "[encoded data removed]",
      "text/plain": [
       "<Figure size 720x720 with 1 Axes>"
      ]
     },
     "metadata": {},
     "output_type": "display_data"
    }
   ],
   "source": [
    "player_score_height.plot.scatter(x=\"Weight\", y=\"Height\", figsize=(10, 10))\n",
    "plt.title(\"Relationship Between Weight and Height \", size=14)\n",
    "plt.xlabel(\"Weight\", size=15)\n",
    "plt.ylabel(\"Height\", size=15);"
   ]
  },
  {
   "cell_type": "markdown",
   "metadata": {},
   "source": [
    "Following, I wanted to see which of the top teams were generally younger or older teams, this is important in football to predict their performance in the following year. Older teams tend to have many players retire and a shortlived success. Hawthorn seems to be slightly older than the rest of the teams."
   ]
  },
  {
   "cell_type": "code",
   "execution_count": 51,
   "metadata": {},
   "outputs": [],
   "source": [
    "plt.style.use(\"seaborn\")"
   ]
  },
  {
   "cell_type": "code",
   "execution_count": 115,
   "metadata": {},
   "outputs": [
    {
     "data": {
      "image/png": "[encoded data removed]",
      "text/plain": [
       "<Figure size 720x720 with 1 Axes>"
      ]
     },
     "metadata": {},
     "output_type": "display_data"
    }
   ],
   "source": [
    "players_dropped[players_dropped.Team.isin(score_by_team.index)].boxplot(column=\"Age\", by=\"Team\", \n",
    "                                                                  figsize=(10,10));"
   ]
  },
  {
   "cell_type": "code",
   "execution_count": null,
   "metadata": {},
   "outputs": [],
   "source": [
    "Finally, I wanted to which of the game statistics most heavily impacted the player's score. "
   ]
  },
  {
   "cell_type": "code",
   "execution_count": 55,
   "metadata": {},
   "outputs": [],
   "source": [
    "from ipywidgets import interact"
   ]
  },
  {
   "cell_type": "code",
   "execution_count": 139,
   "metadata": {},
   "outputs": [],
   "source": [
    "numerical_columns = game_stats.select_dtypes([int, float]).columns.tolist()"
   ]
  },
  {
   "cell_type": "code",
   "execution_count": 143,
   "metadata": {},
   "outputs": [],
   "source": [
    "numerical_columns.remove(\"Score\")"
   ]
  },
  {
   "cell_type": "code",
   "execution_count": 146,
   "metadata": {},
   "outputs": [
    {
     "data": {
      "application/vnd.jupyter.widget-view+json": {
       "model_id": "7f5876cdda384c5a8188482ce9357b82",
       "version_major": 2,
       "version_minor": 0
      },
      "text/plain": [
       "interactive(children=(Dropdown(description='col1', options=('Age', 'Season', 'Margin', 'Disposals', 'Kicks', '…"
      ]
     },
     "metadata": {},
     "output_type": "display_data"
    }
   ],
   "source": [
    "@interact(col1=numerical_columns)\n",
    "def dynamic_chart(col1):\n",
    "    game_stats.groupby(col1)[\"Score\"].mean().plot.line();\n",
    "    plt.title(\"{} vs Score\".format(col1))\n",
    "    plt.xlabel(col1)\n",
    "    plt.ylabel(\"Score\");"
   ]
  },
  {
   "cell_type": "markdown",
   "metadata": {},
   "source": [
    "The conclusion of my assignment that is confirmed by the dropdown menu of attributes is explored, we can see clearly that the number of goals, asssists, marks inside 50 seem to have the most linear and positive relationship with score. On the other hand, as the number of handballs increase the score should decrease however the graph does not exactly relay this information because the players that are better play more often, which exposes them to the possibility of a handball, thus not necissarily determining the score. Based on previous data, position, weight and height also influence the players score. Some teams also have a higher score average and older teams. \n",
    "\n",
    "Once a regression model is developed for the score, the factors that influence it with their coeffecients will be much more clear. This simply provides insight on possible influencers."
   ]
  }
 ],
 "metadata": {
  "kernelspec": {
   "display_name": "Python 3",
   "language": "python",
   "name": "python3"
  },
  "language_info": {
   "codemirror_mode": {
    "name": "ipython",
    "version": 3
   },
   "file_extension": ".py",
   "mimetype": "text/x-python",
   "name": "python",
   "nbconvert_exporter": "python",
   "pygments_lexer": "ipython3",
   "version": "3.7.3"
  }
 },
 "nbformat": 4,
 "nbformat_minor": 2
}
